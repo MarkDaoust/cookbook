{
  "cells": [
    {
      "cell_type": "markdown",
      "metadata": {
        "id": "Tce3stUlHN0L"
      },
      "source": [
        "##### Copyright 2023 Google LLC"
      ]
    },
    {
      "cell_type": "code",
      "execution_count": null,
      "metadata": {
        "cellView": "form",
        "id": "tuOe1ymfHZPu"
      },
      "outputs": [],
      "source": [
        "#@title Licensed under the Apache License, Version 2.0 (the \"License\");\n",
        "# you may not use this file except in compliance with the License.\n",
        "# You may obtain a copy of the License at\n",
        "#\n",
        "# https://www.apache.org/licenses/LICENSE-2.0\n",
        "#\n",
        "# Unless required by applicable law or agreed to in writing, software\n",
        "# distributed under the License is distributed on an \"AS IS\" BASIS,\n",
        "# WITHOUT WARRANTIES OR CONDITIONS OF ANY KIND, either express or implied.\n",
        "# See the License for the specific language governing permissions and\n",
        "# limitations under the License."
      ]
    },
    {
      "cell_type": "markdown",
      "metadata": {
        "id": "FKwyTRdwB8aW"
      },
      "source": [
        "## Setup"
      ]
    },
    {
      "cell_type": "markdown",
      "metadata": {
        "id": "rlE8UqxrDIez"
      },
      "source": [
        "### Install & import"
      ]
    },
    {
      "cell_type": "code",
      "execution_count": null,
      "metadata": {
        "id": "RXInneX6xx7c"
      },
      "outputs": [],
      "source": [
        "!pip install -U -q google-generativeai"
      ]
    },
    {
      "cell_type": "code",
      "execution_count": null,
      "metadata": {
        "id": "kWIuwKG2_oWE"
      },
      "outputs": [],
      "source": [
        "# Install the client library and import necessary modules.\n",
        "import google.generativeai as genai\n",
        "\n",
        "import base64\n",
        "import copy\n",
        "import hashlib\n",
        "import io\n",
        "import json\n",
        "import mimetypes\n",
        "import pathlib\n",
        "import pprint\n",
        "import requests\n",
        "\n",
        "\n",
        "import PIL.Image\n",
        "import IPython.display\n",
        "from IPython.display import Markdown"
      ]
    },
    {
      "cell_type": "markdown",
      "metadata": {
        "id": "qZsRPVv1ITbh"
      },
      "source": [
        "### Mount Google Drive"
      ]
    },
    {
      "cell_type": "code",
      "execution_count": null,
      "metadata": {
        "id": "d9-t_OkGoLIP"
      },
      "outputs": [],
      "source": [
        "from google.colab import drive\n",
        "drive.mount('/gdrive')"
      ]
    },
    {
      "cell_type": "markdown",
      "metadata": {
        "id": "Fet3lFjdKHEM"
      },
      "source": [
        "## Set the API key"
      ]
    },
    {
      "cell_type": "markdown",
      "metadata": {
        "id": "ZoRWILAtCzBE"
      },
      "source": [
        "Add your API_KEY to the secrets manager in the left panel \"🔑\"."
      ]
    },
    {
      "cell_type": "code",
      "execution_count": null,
      "metadata": {
        "id": "LaLCwNlkCyQd"
      },
      "outputs": [],
      "source": [
        "from google.colab import userdata\n",
        "\n",
        "GOOGLE_API_KEY=userdata.get('GOOGLE_API_KEY')"
      ]
    },
    {
      "cell_type": "code",
      "execution_count": null,
      "metadata": {
        "id": "_SvYoR3WCeKr"
      },
      "outputs": [],
      "source": [
        "# Configure the client library by providing your API key.\n",
        "genai.configure(api_key=GOOGLE_API_KEY)"
      ]
    },
    {
      "cell_type": "markdown",
      "metadata": {
        "id": "weo-o73WDpdm"
      },
      "source": [
        "### Parse the arguments"
      ]
    },
    {
      "cell_type": "code",
      "execution_count": null,
      "metadata": {
        "id": "uIog-0SyDuIF"
      },
      "outputs": [],
      "source": [
        "model = \"gemini-1.5-flash\" # @param {isTemplate: true}\n",
        "contents_b64 = 'W3sicGFydHMiOiBbeyJ0ZXh0Ijoid2hhdCdzIGluIHRoaXMgcGljdHVyZToifSwgeyJpbWFnZSI6IHsiaW1hZ2VfdXJsIjogImh0dHBzOi8vc3RvcmFnZS5nb29nbGVhcGlzLmNvbS9nZW5lcmF0aXZlYWktZG93bmxvYWRzL2ltYWdlcy9zY29uZXMuanBnIn19XX1d' # @param {isTemplate: true}\n",
        "generation_config_b64 = \"e30=\" # @param {isTemplate: true}\n",
        "safety_settings_b64 = \"e30=\" # @param {isTemplate: true}\n",
        "\n",
        "gais_contents = json.loads(base64.b64decode(contents_b64))\n",
        "\n",
        "generation_config = json.loads(base64.b64decode(generation_config_b64))\n",
        "safety_settings = json.loads(base64.b64decode(safety_settings_b64))\n",
        "\n",
        "stream = False"
      ]
    },
    {
      "cell_type": "code",
      "execution_count": null,
      "metadata": {
        "id": "T3yo4eMqyWEZ"
      },
      "outputs": [],
      "source": [
        "contents"
      ]
    },
    {
      "cell_type": "code",
      "execution_count": null,
      "metadata": {
        "id": "ca3e641ee9d3"
      },
      "outputs": [],
      "source": [
        "generation_config"
      ]
    },
    {
      "cell_type": "code",
      "execution_count": null,
      "metadata": {
        "id": "11ce12f5bbac"
      },
      "outputs": [],
      "source": [
        "safety_settings"
      ]
    },
    {
      "cell_type": "markdown",
      "source": [
        "### [Optional] Show the conversation\n",
        "\n",
        "This section displays the conversation received from Google AI Studio."
      ],
      "metadata": {
        "id": "F91AeeGO1ncU"
      }
    },
    {
      "cell_type": "code",
      "source": [
        "def show_file(file_data):\n",
        "  mime_type=file_data['mime_type']\n",
        "  if drive_id:=file_data.get('drive_id', None):\n",
        "    path = next(pathlib.Path(f'/gdrive/.shortcut-targets-by-id/{drive_id}').glob('*'))\n",
        "    name = path\n",
        "    data = path.read_bytes()\n",
        "  elif url:=file_data.get('url', None):\n",
        "    response = requests.get(url)\n",
        "    name = url\n",
        "    data = response.content\n",
        "  elif data := file_data.get('inline_data'):\n",
        "    name = None\n",
        "  else:\n",
        "    raise ValueError('Either `drive_id`, `url` or `inline_data` must be provided.')\n",
        "\n",
        "  if mime_type.startswith('image/'):\n",
        "    image = IPython.display.Image(data=data, format=mimetypes.guess_extension(mime_type).strip('.'), width=256)\n",
        "    IPython.display.display(image)\n",
        "    print()\n",
        "  else:\n",
        "    print(\"File:\\n    name: {name}\\n    mime_type: {mime_type}\")\n"
      ],
      "metadata": {
        "id": "yoL3p3KPylFW"
      },
      "execution_count": null,
      "outputs": []
    },
    {
      "cell_type": "code",
      "source": [
        "for content in gais_contents:\n",
        "  if role:=content.get('role', None):\n",
        "    print(\"Role:\", role, \"\\n\")\n",
        "\n",
        "  for n, part in enumerate(content['parts']):\n",
        "    if text := part.get('text', None):\n",
        "      print(text, \"\\n\")\n",
        "\n",
        "    elif file_data:=part.get('file_data', None):\n",
        "      show_file(file_data)\n",
        "\n",
        "  print('-'*80, \"\\n\")"
      ],
      "metadata": {
        "id": "o9D5UdhL8MTk"
      },
      "execution_count": null,
      "outputs": []
    },
    {
      "cell_type": "markdown",
      "source": [
        "### Convert & upload files"
      ],
      "metadata": {
        "id": "0F6SKiuo88LQ"
      }
    },
    {
      "cell_type": "code",
      "source": [
        "def normalize_file_data(file_data):\n",
        "  mime_type=file_data['mime_type']\n",
        "  if drive_id:=file_data.pop('drive_id', None):\n",
        "    path = next(pathlib.Path(f'/gdrive/.shortcut-targets-by-id/{drive_id}').glob('*'))\n",
        "    print('Uploading:', str(path))\n",
        "    file_info = genai.upload_file(path=path, mime_type=mime_type)\n",
        "    file_data['file_uri'] = file_info.uri\n",
        "    return\n",
        "\n",
        "  if url:=file_data.pop('url', None):\n",
        "    response = requests.get(url)\n",
        "    data = response.content\n",
        "    name = url.split('/')[-1]\n",
        "    hash = hashlib.sha256(data).hexdigest()\n",
        "    path = tempfiles/hash\n",
        "    path.write_bytes(data)\n",
        "    print('Uploading:', url)\n",
        "    file_info = genai.upload_file(path, display_name=name, mime_type=mime_type)\n",
        "    file_data['file_uri'] =  file_info.uri\n",
        "    return\n",
        "\n",
        "  if 'inline_data' in file_data:\n",
        "    return\n",
        "\n",
        "\n",
        "  raise ValueError('Either `drive_id`, `url` or `inline_data` must be provided.')"
      ],
      "metadata": {
        "id": "_wJAs_ZfuwCq"
      },
      "execution_count": null,
      "outputs": []
    },
    {
      "cell_type": "code",
      "execution_count": null,
      "metadata": {
        "id": "8TehY-utE3OR"
      },
      "outputs": [],
      "source": [
        "tempfiles = pathlib.Path(f\"tempfiles\")\n",
        "tempfiles.mkdir(parents=True, exist_ok=True)\n",
        "\n",
        "contents = copy.deepcopy(gais_contents)\n",
        "\n",
        "for content in contents:\n",
        "  for n, part in enumerate(content['parts']):\n",
        "    if file_data:=part.get('file_data', None):\n",
        "      normalize_file_data(file_data)\n",
        ""
      ]
    },
    {
      "cell_type": "markdown",
      "source": [
        "Here is the coverted `Content`:"
      ],
      "metadata": {
        "id": "EUFIM-r39cuc"
      }
    },
    {
      "cell_type": "code",
      "source": [
        "contents"
      ],
      "metadata": {
        "id": "oJ-sPFRSxdQg"
      },
      "execution_count": null,
      "outputs": []
    },
    {
      "cell_type": "markdown",
      "metadata": {
        "id": "E7zAD69vE92b"
      },
      "source": [
        "### Call the API"
      ]
    },
    {
      "cell_type": "code",
      "execution_count": null,
      "metadata": {
        "id": "LB2LxPmAB95V"
      },
      "outputs": [],
      "source": [
        "# Call the model and print the response.\n",
        "gemini = genai.GenerativeModel(model_name=model)\n",
        "\n",
        "response = gemini.generate_content(\n",
        "    contents,\n",
        "    generation_config=generation_config,\n",
        "    safety_settings=safety_settings,\n",
        "    stream=False)"
      ]
    },
    {
      "cell_type": "code",
      "execution_count": null,
      "metadata": {
        "id": "Lm3RXwYuGtZK"
      },
      "outputs": [],
      "source": [
        "if generation_config.get('candidate_count', 1) == 1:\n",
        "  display(Markdown(response.text))\n",
        "else:\n",
        "  print(response.candidates)"
      ]
    },
    {
      "cell_type": "code",
      "execution_count": null,
      "metadata": {
        "id": "HjT4jtJc2aAk"
      },
      "outputs": [],
      "source": [
        "response.candidates"
      ]
    },
    {
      "cell_type": "code",
      "source": [],
      "metadata": {
        "id": "To9SF18K9uKa"
      },
      "execution_count": null,
      "outputs": []
    }
  ],
  "metadata": {
    "colab": {
      "collapsed_sections": [
        "Tce3stUlHN0L"
      ],
      "toc_visible": true,
      "provenance": []
    },
    "kernelspec": {
      "display_name": "Python 3",
      "name": "python3"
    }
  },
  "nbformat": 4,
  "nbformat_minor": 0
}
